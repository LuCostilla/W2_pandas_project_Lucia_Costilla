{
 "cells": [
  {
   "cell_type": "code",
   "execution_count": 1,
   "id": "3b86dcb0",
   "metadata": {},
   "outputs": [],
   "source": [
    "import pandas as pd\n",
    "import numpy as np"
   ]
  },
  {
   "cell_type": "code",
   "execution_count": 2,
   "id": "63451e42",
   "metadata": {},
   "outputs": [],
   "source": [
    "data_original=pd.read_csv(\"/Users/jeffworker/Documents/GitHub/Bootcamp/Ejercicios/attacks.csv\",sep=',', encoding='latin-1')\n",
    "\n"
   ]
  },
  {
   "cell_type": "code",
   "execution_count": 3,
   "id": "9684bb97",
   "metadata": {},
   "outputs": [],
   "source": [
    "data = data_original.copy()"
   ]
  },
  {
   "cell_type": "code",
   "execution_count": 4,
   "id": "22be61cd",
   "metadata": {},
   "outputs": [
    {
     "data": {
      "text/plain": [
       "(25723, 24)"
      ]
     },
     "execution_count": 4,
     "metadata": {},
     "output_type": "execute_result"
    }
   ],
   "source": [
    "data.shape"
   ]
  },
  {
   "cell_type": "code",
   "execution_count": 5,
   "id": "fe884720",
   "metadata": {
    "scrolled": true
   },
   "outputs": [],
   "source": [
    "# Reemplazamos los espacios por nada\n",
    "lista_columns = list(data.columns)\n",
    "columns_ok = []\n",
    "\n",
    "for columna in lista_columns:\n",
    "    columns_ok.append(columna.replace(\" \", \"\"))\n",
    "\n",
    "data.columns = columns_ok"
   ]
  },
  {
   "cell_type": "code",
   "execution_count": 6,
   "id": "db236520",
   "metadata": {},
   "outputs": [],
   "source": [
    "# Eliminamos duplicados\n",
    "data.drop_duplicates(inplace=True)\n"
   ]
  },
  {
   "cell_type": "code",
   "execution_count": 7,
   "id": "a6c34a8f",
   "metadata": {},
   "outputs": [
    {
     "data": {
      "text/plain": [
       "(6312, 24)"
      ]
     },
     "execution_count": 7,
     "metadata": {},
     "output_type": "execute_result"
    }
   ],
   "source": [
    "data.shape"
   ]
  },
  {
   "cell_type": "code",
   "execution_count": 8,
   "id": "7260d81b",
   "metadata": {},
   "outputs": [],
   "source": [
    "# Visualizar\n",
    "nan_cols = data.isna().sum()"
   ]
  },
  {
   "cell_type": "code",
   "execution_count": 9,
   "id": "5de82eb2",
   "metadata": {},
   "outputs": [],
   "source": [
    "# Borramos los que no tienen pais\n",
    "sin_country= []\n",
    "\n",
    "for fila in data.index:\n",
    "    if pd.isna(data['Country'][fila]):\n",
    "        sin_country.append(fila)\n",
    "\n",
    "data.drop(labels=None, axis=0, index=sin_country, columns=None, level=None, inplace=True, errors='raise')"
   ]
  },
  {
   "cell_type": "code",
   "execution_count": 10,
   "id": "ba6126c6",
   "metadata": {},
   "outputs": [
    {
     "data": {
      "text/plain": [
       "(6252, 24)"
      ]
     },
     "execution_count": 10,
     "metadata": {},
     "output_type": "execute_result"
    }
   ],
   "source": [
    "data.shape"
   ]
  },
  {
   "cell_type": "code",
   "execution_count": 11,
   "id": "f5a51694",
   "metadata": {},
   "outputs": [],
   "source": [
    "# Borramos todas las filas que tenga mas de 5 campos en NaN\n",
    "\n",
    "lista_de_nans = []\n",
    "\n",
    "totalDeNans = 0\n",
    "for fila in data.index:\n",
    "    for columna in list(data.columns):\n",
    "        if pd.isna(data[columna][fila]):\n",
    "            totalDeNans = totalDeNans + 1\n",
    "        if totalDeNans > 5:\n",
    "            lista_de_nans.append(fila)\n",
    "    totalDeNans = 0\n",
    "\n",
    "data.drop(labels=None, axis=0, index=lista_de_nans, columns=None, level=None, inplace=True, errors='raise')\n"
   ]
  },
  {
   "cell_type": "code",
   "execution_count": 12,
   "id": "79b7f094",
   "metadata": {},
   "outputs": [
    {
     "data": {
      "text/plain": [
       "(5332, 24)"
      ]
     },
     "execution_count": 12,
     "metadata": {},
     "output_type": "execute_result"
    }
   ],
   "source": [
    "data.shape"
   ]
  },
  {
   "cell_type": "code",
   "execution_count": 13,
   "id": "3a5d3ea1",
   "metadata": {},
   "outputs": [],
   "source": [
    " #modificar NaN en location por Unknown\n",
    "data['Location'] = data['Location'].fillna('Unknown')\n"
   ]
  },
  {
   "cell_type": "code",
   "execution_count": 14,
   "id": "6b4b5fde",
   "metadata": {},
   "outputs": [],
   "source": [
    "data['Area'] = data['Area'].fillna('Unknown') #modificar NaN en Area por Unknown\n"
   ]
  },
  {
   "cell_type": "code",
   "execution_count": 15,
   "id": "b5ba9300",
   "metadata": {
    "scrolled": true
   },
   "outputs": [],
   "source": [
    "# Para ver cuantos isNan hay por Columna\n",
    "#data.isna().sum()"
   ]
  },
  {
   "cell_type": "code",
   "execution_count": 16,
   "id": "3cb53422",
   "metadata": {},
   "outputs": [],
   "source": [
    "# Borramos los duplicados de 4 Columnas\n",
    "data.drop_duplicates(subset=['Country', 'Area', 'Location', 'Activity'], keep='first', inplace=True, ignore_index=False)\n"
   ]
  },
  {
   "cell_type": "code",
   "execution_count": 17,
   "id": "51a3ee68",
   "metadata": {},
   "outputs": [
    {
     "data": {
      "text/plain": [
       "(4738, 24)"
      ]
     },
     "execution_count": 17,
     "metadata": {},
     "output_type": "execute_result"
    }
   ],
   "source": [
    "data.shape"
   ]
  },
  {
   "cell_type": "code",
   "execution_count": 18,
   "id": "5eade2cf",
   "metadata": {},
   "outputs": [],
   "source": [
    "# modificar actividad 0 o nan por unknown\n",
    "data['Activity'] = data['Activity'].str.replace('0','Unknown') \n",
    "data['Activity'] = data['Activity'].fillna('Unknown')"
   ]
  },
  {
   "cell_type": "code",
   "execution_count": 19,
   "id": "aaf6b3d2",
   "metadata": {},
   "outputs": [],
   "source": [
    "#Quitar Nan, N y . en Sex.\n",
    "\n",
    "sin_sexo= []\n",
    "\n",
    "for fila in data.index:\n",
    "    if pd.isna(data['Sex'][fila]):\n",
    "        sin_sexo.append(fila)\n",
    "    if data['Sex'][fila] == 'N':\n",
    "        sin_sexo.append(fila)\n",
    "    if data['Sex'][fila] == '.':\n",
    "        sin_sexo.append(fila)\n",
    "        \n",
    "data.drop(labels=None, axis=0, index=sin_sexo, columns=None, level=None, inplace=True, errors='raise')\n"
   ]
  },
  {
   "cell_type": "code",
   "execution_count": 20,
   "id": "29a21023",
   "metadata": {},
   "outputs": [
    {
     "data": {
      "text/plain": [
       "(4528, 24)"
      ]
     },
     "execution_count": 20,
     "metadata": {},
     "output_type": "execute_result"
    }
   ],
   "source": [
    "data.shape"
   ]
  },
  {
   "cell_type": "code",
   "execution_count": 21,
   "id": "f110a828",
   "metadata": {},
   "outputs": [],
   "source": [
    "# Modificamos 'M ' por 'M'\n",
    "data['Sex'] = data['Sex'].str.replace('M ','M')"
   ]
  },
  {
   "cell_type": "code",
   "execution_count": 22,
   "id": "dc2bae6c",
   "metadata": {},
   "outputs": [],
   "source": [
    "#lista_dates = list(data['Date'].value_counts().head())\n",
    "#lista_dates"
   ]
  },
  {
   "cell_type": "code",
   "execution_count": 23,
   "id": "5d238874",
   "metadata": {},
   "outputs": [],
   "source": [
    "# Sustituiomos en Date los Reported por ''\n",
    "# Borramos todas las fechas que pongan Before\n",
    "before = []\n",
    "for fila in data.index: \n",
    "    if data['Date'][fila].find('Reported') != -1:\n",
    "        #print(data['Date'][fila])\n",
    "        data['Date'] = data['Date'].str.replace('Reported ','')\n",
    "    \n",
    "    if data['Date'][fila].find('Before') != -1:\n",
    "        before.append(fila)\n",
    "\n",
    "data.drop(labels=None, axis=0, index=before, columns=None, level=None, inplace=True, errors='raise')\n",
    "        "
   ]
  },
  {
   "cell_type": "code",
   "execution_count": 24,
   "id": "52821121",
   "metadata": {},
   "outputs": [
    {
     "data": {
      "text/plain": [
       "(4480, 24)"
      ]
     },
     "execution_count": 24,
     "metadata": {},
     "output_type": "execute_result"
    }
   ],
   "source": [
    "data.shape"
   ]
  },
  {
   "cell_type": "code",
   "execution_count": 27,
   "id": "71aa0a73",
   "metadata": {},
   "outputs": [],
   "source": [
    "# Borramos los que no tienen Edad\n",
    "sin_age= []\n",
    "\n",
    "for fila in data.index:\n",
    "    if pd.isna(data['Age'][fila]):\n",
    "        sin_age.append(fila)\n",
    "\n",
    "data.drop(labels=None, axis=0, index=sin_age, columns=None, level=None, inplace=True, errors='raise')"
   ]
  },
  {
   "cell_type": "code",
   "execution_count": 29,
   "id": "b033730e",
   "metadata": {},
   "outputs": [
    {
     "data": {
      "text/plain": [
       "(2912, 24)"
      ]
     },
     "execution_count": 29,
     "metadata": {},
     "output_type": "execute_result"
    }
   ],
   "source": [
    "data.shape"
   ]
  },
  {
   "cell_type": "code",
   "execution_count": null,
   "id": "8609331b",
   "metadata": {},
   "outputs": [],
   "source": []
  }
 ],
 "metadata": {
  "kernelspec": {
   "display_name": "Python 3 (ipykernel)",
   "language": "python",
   "name": "python3"
  },
  "language_info": {
   "codemirror_mode": {
    "name": "ipython",
    "version": 3
   },
   "file_extension": ".py",
   "mimetype": "text/x-python",
   "name": "python",
   "nbconvert_exporter": "python",
   "pygments_lexer": "ipython3",
   "version": "3.9.12"
  }
 },
 "nbformat": 4,
 "nbformat_minor": 5
}
